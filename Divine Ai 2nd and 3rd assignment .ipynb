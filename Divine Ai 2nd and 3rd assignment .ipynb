{
 "cells": [
  {
   "cell_type": "markdown",
   "metadata": {},
   "source": [
    "# Divine Ai 2nd ASSIGNMENT"
   ]
  },
  {
   "cell_type": "code",
   "execution_count": 2,
   "metadata": {},
   "outputs": [
    {
     "name": "stdout",
     "output_type": "stream",
     "text": [
      "Enter the number of which the user wants to print the table:12\n",
      "The table of: 12\n",
      "12\n",
      "24\n",
      "36\n",
      "48\n",
      "60\n",
      "72\n",
      "84\n",
      "96\n",
      "108\n",
      "120\n"
     ]
    }
   ],
   "source": [
    "# WAP to print table of n,where n is entered by the user\n",
    "\n",
    "number = int(input(\"Enter the number of which the user wants to print the table:\"))\n",
    "print(\"The table of:\",number)\n",
    "for count in range(1,11):\n",
    "    print(number*count)\n"
   ]
  },
  {
   "cell_type": "code",
   "execution_count": 3,
   "metadata": {},
   "outputs": [
    {
     "name": "stdout",
     "output_type": "stream",
     "text": [
      "enter the value of n: 6\n",
      "Sum of n natural number is 21\n"
     ]
    }
   ],
   "source": [
    " ##WAP to print sum of n natural numbers, where n is entered by the user\n",
    "\n",
    "num = int(input(\"enter the value of n: \"))\n",
    "\n",
    "sum = 0\n",
    "\n",
    "if num <= 0:\n",
    "    print(\"Enter the whole positive number:\")\n",
    "    \n",
    "else:\n",
    "    while num > 0:\n",
    "        sum = sum + num\n",
    "        num = num -1\n",
    "    print(\"Sum of n natural number is\",sum)\n",
    "\n"
   ]
  },
  {
   "cell_type": "code",
   "execution_count": 4,
   "metadata": {},
   "outputs": [
    {
     "name": "stdout",
     "output_type": "stream",
     "text": [
      "Enter the number7\n",
      "5040\n"
     ]
    }
   ],
   "source": [
    "## WAP to print the factorial of the given number ,where number is entered by the user\n",
    "\n",
    "\n",
    "def factorial(n):\n",
    "    if n == 0:\n",
    "        return 1\n",
    "    else:\n",
    "        return n * factorial(n-1)\n",
    "n = int(input(\"Enter the number\"))\n",
    "print(factorial(n))\n"
   ]
  },
  {
   "cell_type": "code",
   "execution_count": 5,
   "metadata": {},
   "outputs": [
    {
     "name": "stdout",
     "output_type": "stream",
     "text": [
      "Enter the number of elements to enter:3\n",
      "Enter the element:2\n",
      "Enter the element:3\n",
      "Enter the element:4\n",
      "Average of elements in the list: 7.666666666666667\n"
     ]
    }
   ],
   "source": [
    "#WAP to print the average of a number\n",
    "\n",
    "n = int(input(\"Enter the number of elements to enter:\"))\n",
    "a=[]\n",
    "for i in range(0,n):\n",
    "    element = int(input(\"Enter the element:\"))\n",
    "    a.append(element)\n",
    "sum= sum+i\n",
    "avg= sum/n\n",
    "print(\"Average of elements in the list:\",avg)\n",
    "\n",
    "\n"
   ]
  },
  {
   "cell_type": "markdown",
   "metadata": {},
   "source": [
    "# Assignment 1 "
   ]
  },
  {
   "cell_type": "code",
   "execution_count": 9,
   "metadata": {},
   "outputs": [
    {
     "name": "stdout",
     "output_type": "stream",
     "text": [
      "['turboslayer@gmail.com', 'someone@outlook.com', 'crashtv@gov.in', 'blue_defender@gmail.com', 'logan@yahoo.com', 'ironmerc@gov.in', 'steeltitan@outlook.com', 'stealthedefender@yahoo.com', 'blaze_assault@gov.in', 'venom_fate@yahoo.com', 'dark_side@yahoo.com', 'fataldestiny@yahoo.com', 'ultimatebeast@outlook.com', 'masked_titan@gmail.com', 'frozen_gunner@yahoo.com', 'username_copied@gov.in', 'whos_ur_buddy@outlook.com', 'unfinished_sentenc@gov.in', 'all_gone@gov.in', 'something@gmail.com', 'president@gmail.com', 'tinfoilhat@gmail.com', 'anonymouse@yahoo.com', 'definitely_not_an_athlete@outlook.com', 'dropout@gov.in', 'paw_friend@outlook.com', 'test_name_please_ignore@gov.in', 'heyyou@gov.in', 'a_distraction@yahoo.com', 'thegodfatherpart4@gov.in', 'unfriendme@outlook.com', 'doodles@gmail.com', 'fluffycookie@yahoo.com', 'theintolerant@gmail.com', 'fourhour@yahoo.com', 'toastedwithcheese@gmail.com', 'futureking@yahoo.com', 'coolshirtbruh@outlook.com', 'kentucky@yahoo.com', 'chocolate@gmail.com', 'saintbroseph@yahoo.com', 'just_chillin@gmail.com', 'ghostface@gov.in', 'bigfootisreal@yahoo.com', 'newbie@yahoo.com', 'alienware@outlook.com', 'chrishemsworth@outlook.com', 'nachocheesefries@outlook.com', 'reginageorge@gov.in', 'harmless_potato@outlook.com', 'frostedcupcake@outlook.com', 'avocadorable@outlook.com', 'pixie_dust@gmail.com', 'chopsuey@yahoo.com', 'iron_man@gov.in', 'lemon_ade@outlook.com', 'cerial_killer@outlook.com', 'light_year@gov.in', 'phoenix@outlook.com', 'harry_potter@outlook.com']\n"
     ]
    }
   ],
   "source": [
    "l='''turboslayer@gmail.com\n",
    "someone@outlook.com\n",
    "crashtv@gov.in\n",
    "blue_defender@gmail.com\n",
    "logan@yahoo.com\n",
    "ironmerc@gov.in\n",
    "steeltitan@outlook.com\n",
    "stealthedefender@yahoo.com\n",
    "blaze_assault@gov.in\n",
    "venom_fate@yahoo.com\n",
    "dark_side@yahoo.com\n",
    "fataldestiny@yahoo.com\n",
    "ultimatebeast@outlook.com\n",
    "masked_titan@gmail.com\n",
    "frozen_gunner@yahoo.com\n",
    "username_copied@gov.in\n",
    "whos_ur_buddy@outlook.com\n",
    "unfinished_sentenc@gov.in\n",
    "all_gone@gov.in\n",
    "something@gmail.com\n",
    "president@gmail.com\n",
    "tinfoilhat@gmail.com\n",
    "anonymouse@yahoo.com\n",
    "definitely_not_an_athlete@outlook.com\n",
    "dropout@gov.in\n",
    "paw_friend@outlook.com\n",
    "test_name_please_ignore@gov.in\n",
    "heyyou@gov.in\n",
    "a_distraction@yahoo.com\n",
    "thegodfatherpart4@gov.in\n",
    "unfriendme@outlook.com\n",
    "doodles@gmail.com\n",
    "fluffycookie@yahoo.com\n",
    "theintolerant@gmail.com\n",
    "fourhour@yahoo.com\n",
    "toastedwithcheese@gmail.com\n",
    "futureking@yahoo.com\n",
    "coolshirtbruh@outlook.com\n",
    "kentucky@yahoo.com\n",
    "chocolate@gmail.com\n",
    "saintbroseph@yahoo.com\n",
    "just_chillin@gmail.com\n",
    "ghostface@gov.in\n",
    "bigfootisreal@yahoo.com\n",
    "newbie@yahoo.com\n",
    "alienware@outlook.com\n",
    "chrishemsworth@outlook.com\n",
    "nachocheesefries@outlook.com\n",
    "reginageorge@gov.in\n",
    "harmless_potato@outlook.com\n",
    "frostedcupcake@outlook.com\n",
    "avocadorable@outlook.com\n",
    "pixie_dust@gmail.com\n",
    "chopsuey@yahoo.com\n",
    "iron_man@gov.in\n",
    "lemon_ade@outlook.com\n",
    "cerial_killer@outlook.com\n",
    "light_year@gov.in\n",
    "phoenix@outlook.com\n",
    "harry_potter@outlook.com'''\n",
    "l1=l.split()\n",
    "print(l1)\n"
   ]
  },
  {
   "cell_type": "code",
   "execution_count": 10,
   "metadata": {},
   "outputs": [
    {
     "name": "stdout",
     "output_type": "stream",
     "text": [
      "{'gmail.com': 12, 'outlook.com': 18, 'yahoo.com': 16, 'gov.in': 14}\n"
     ]
    }
   ],
   "source": [
    "gmail,outlook,yahoo,gov = 'gmail.com','outlook.com','yahoo.com','gov.in'\n",
    "gmailcount,outlookcount,yahoocount,govcount=0,0,0,0\n",
    "\n",
    "for i in l1:\n",
    "    if gmail in i:\n",
    "        gmailcount +=1\n",
    "    if outlook in i:\n",
    "        outlookcount +=1\n",
    "        \n",
    "    if yahoo in i:\n",
    "        yahoocount +=1\n",
    "    if gov in i:\n",
    "        govcount +=1\n",
    "d=dict()\n",
    "d['gmail.com']= gmailcount\n",
    "d['outlook.com']=outlookcount\n",
    "d['yahoo.com']=yahoocount\n",
    "d['gov.in']=govcount\n",
    "print(d)"
   ]
  },
  {
   "cell_type": "markdown",
   "metadata": {},
   "source": [
    "# Assigment 3"
   ]
  },
  {
   "cell_type": "code",
   "execution_count": 12,
   "metadata": {},
   "outputs": [
    {
     "name": "stdout",
     "output_type": "stream",
     "text": [
      "Enter the no elements:5\n",
      "Enter the element:34\n",
      "Enter the element:45\n",
      "Enter the element:67\n",
      "Enter the element:89\n",
      "Enter the element:23\n",
      "The 1st largest element in the list is: 89\n",
      "The Second largest element in the list is: 67\n",
      "The Third largest element in the list is 45\n"
     ]
    }
   ],
   "source": [
    "#wap to find the 1st 2nd and 3rd highest no in a list\n",
    "a=[]\n",
    "n = int(input(\"Enter the no elements:\"))\n",
    "for i in range(1,n+1):\n",
    "    b = int(input(\"Enter the element:\"))\n",
    "    a.append(b)\n",
    "    \n",
    "a.sort()\n",
    "print(\"The 1st largest element in the list is:\",a[n-1])\n",
    "print(\"The Second largest element in the list is:\",a[n-2])\n",
    "print(\"The Third largest element in the list is\",a[n-3])\n",
    "\n",
    "\n"
   ]
  },
  {
   "cell_type": "markdown",
   "metadata": {},
   "source": []
  },
  {
   "cell_type": "code",
   "execution_count": null,
   "metadata": {},
   "outputs": [],
   "source": []
  },
  {
   "cell_type": "code",
   "execution_count": null,
   "metadata": {},
   "outputs": [],
   "source": []
  },
  {
   "cell_type": "code",
   "execution_count": null,
   "metadata": {},
   "outputs": [],
   "source": []
  },
  {
   "cell_type": "code",
   "execution_count": null,
   "metadata": {},
   "outputs": [],
   "source": []
  },
  {
   "cell_type": "code",
   "execution_count": null,
   "metadata": {},
   "outputs": [],
   "source": []
  },
  {
   "cell_type": "code",
   "execution_count": null,
   "metadata": {},
   "outputs": [],
   "source": []
  },
  {
   "cell_type": "code",
   "execution_count": null,
   "metadata": {},
   "outputs": [],
   "source": []
  },
  {
   "cell_type": "code",
   "execution_count": null,
   "metadata": {},
   "outputs": [],
   "source": []
  },
  {
   "cell_type": "code",
   "execution_count": null,
   "metadata": {},
   "outputs": [],
   "source": []
  },
  {
   "cell_type": "code",
   "execution_count": null,
   "metadata": {},
   "outputs": [],
   "source": []
  },
  {
   "cell_type": "code",
   "execution_count": null,
   "metadata": {},
   "outputs": [],
   "source": []
  },
  {
   "cell_type": "code",
   "execution_count": null,
   "metadata": {},
   "outputs": [],
   "source": []
  },
  {
   "cell_type": "code",
   "execution_count": null,
   "metadata": {},
   "outputs": [],
   "source": []
  },
  {
   "cell_type": "code",
   "execution_count": null,
   "metadata": {},
   "outputs": [],
   "source": []
  },
  {
   "cell_type": "code",
   "execution_count": null,
   "metadata": {},
   "outputs": [],
   "source": []
  },
  {
   "cell_type": "code",
   "execution_count": null,
   "metadata": {},
   "outputs": [],
   "source": []
  },
  {
   "cell_type": "code",
   "execution_count": null,
   "metadata": {},
   "outputs": [],
   "source": []
  },
  {
   "cell_type": "code",
   "execution_count": null,
   "metadata": {},
   "outputs": [],
   "source": []
  },
  {
   "cell_type": "code",
   "execution_count": null,
   "metadata": {},
   "outputs": [],
   "source": []
  },
  {
   "cell_type": "code",
   "execution_count": null,
   "metadata": {},
   "outputs": [],
   "source": []
  },
  {
   "cell_type": "code",
   "execution_count": null,
   "metadata": {},
   "outputs": [],
   "source": []
  }
 ],
 "metadata": {
  "kernelspec": {
   "display_name": "Python 3",
   "language": "python",
   "name": "python3"
  }
 },
 "nbformat": 4,
 "nbformat_minor": 4
}
